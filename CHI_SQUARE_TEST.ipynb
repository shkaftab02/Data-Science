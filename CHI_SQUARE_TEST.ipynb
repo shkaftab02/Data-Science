{
  "nbformat": 4,
  "nbformat_minor": 0,
  "metadata": {
    "colab": {
      "provenance": []
    },
    "kernelspec": {
      "name": "python3",
      "display_name": "Python 3"
    },
    "language_info": {
      "name": "python"
    }
  },
  "cells": [
    {
      "cell_type": "markdown",
      "source": [
        "# **CHI-SQUARE TEST**"
      ],
      "metadata": {
        "id": "0pBlTNGoXtUH"
      }
    },
    {
      "cell_type": "code",
      "execution_count": 1,
      "metadata": {
        "colab": {
          "base_uri": "https://localhost:8080/"
        },
        "id": "8rGtXtx7WsLM",
        "outputId": "8a7aa2a1-fd29-45c4-9cd1-d1673edbfe04"
      },
      "outputs": [
        {
          "output_type": "stream",
          "name": "stdout",
          "text": [
            "Contingency Table:\n",
            "                  Smart Thermostat  Smart Light\n",
            "Very Satisfied                  50           70\n",
            "Satisfied                       80          100\n",
            "Neutral                         60           90\n",
            "Unsatisfied                     30           50\n",
            "Very Unsatisfied                20           50\n"
          ]
        }
      ],
      "source": [
        "import numpy as np\n",
        "import pandas as pd\n",
        "from scipy.stats import chi2_contingency\n",
        "from scipy.stats import chi2\n",
        "\n",
        "data = np.array([\n",
        "    [50, 70],  # Very Satisfied\n",
        "    [80, 100], # Satisfied\n",
        "    [60, 90],  # Neutral\n",
        "    [30, 50],  # Unsatisfied\n",
        "    [20, 50]   # Very Unsatisfied\n",
        "])\n",
        "\n",
        "contingency_table = pd.DataFrame(\n",
        "    data,\n",
        "    columns=[\"Smart Thermostat\", \"Smart Light\"],\n",
        "    index=[\"Very Satisfied\", \"Satisfied\", \"Neutral\", \"Unsatisfied\", \"Very Unsatisfied\"]\n",
        ")\n",
        "\n",
        "print(\"Contingency Table:\")\n",
        "print(contingency_table)\n"
      ]
    },
    {
      "cell_type": "code",
      "source": [
        "chi2_stat, p_value, dof, expected = chi2_contingency(data)\n",
        "\n",
        "alpha = 0.05\n",
        "critical_value = chi2.ppf(1 - alpha, dof)\n",
        "\n",
        "print(\"\\nChi-Square Test Results:\")\n",
        "print(f\"Chi-Square Statistic: {chi2_stat:.2f}\")\n",
        "print(f\"P-Value: {p_value:.4f}\")\n",
        "print(f\"Degrees of Freedom: {dof}\")\n",
        "print(\"\\nExpected Frequencies:\")\n",
        "print(pd.DataFrame(expected, columns=[\"Smart Thermostat\", \"Smart Light\"], index=contingency_table.index))\n",
        "print(f\"\\nCritical Value at alpha={alpha}: {critical_value:.2f}\")\n",
        "\n",
        "if chi2_stat > critical_value:\n",
        "    print(\"\\nDecision: Reject the null hypothesis. There is a significant association between the type of smart home device and customer satisfaction level.\")\n",
        "else:\n",
        "    print(\"\\nDecision: Fail to reject the null hypothesis. There is no significant association between the type of smart home device and customer satisfaction level.\")\n",
        "\n"
      ],
      "metadata": {
        "colab": {
          "base_uri": "https://localhost:8080/"
        },
        "id": "wkuIY4drXY5W",
        "outputId": "8525b639-36c0-4e1e-fa43-b619060e7722"
      },
      "execution_count": 4,
      "outputs": [
        {
          "output_type": "stream",
          "name": "stdout",
          "text": [
            "\n",
            "Chi-Square Test Results:\n",
            "Chi-Square Statistic: 5.64\n",
            "P-Value: 0.2278\n",
            "Degrees of Freedom: 4\n",
            "\n",
            "Expected Frequencies:\n",
            "                  Smart Thermostat  Smart Light\n",
            "Very Satisfied                48.0         72.0\n",
            "Satisfied                     72.0        108.0\n",
            "Neutral                       60.0         90.0\n",
            "Unsatisfied                   32.0         48.0\n",
            "Very Unsatisfied              28.0         42.0\n",
            "\n",
            "Critical Value at alpha=0.05: 9.49\n",
            "\n",
            "Decision: Fail to reject the null hypothesis. There is no significant association between the type of smart home device and customer satisfaction level.\n"
          ]
        }
      ]
    }
  ]
}