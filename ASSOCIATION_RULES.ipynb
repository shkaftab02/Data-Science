{
  "nbformat": 4,
  "nbformat_minor": 0,
  "metadata": {
    "colab": {
      "provenance": []
    },
    "kernelspec": {
      "name": "python3",
      "display_name": "Python 3"
    },
    "language_info": {
      "name": "python"
    }
  },
  "cells": [
    {
      "cell_type": "code",
      "source": [
        "import pandas as pd\n",
        "from mlxtend.preprocessing import TransactionEncoder\n",
        "from mlxtend.frequent_patterns import apriori, association_rules\n",
        "data = pd.read_csv('/content/Online retail.csv', header=None)\n",
        "data.dropna(inplace=True)\n",
        "data.drop_duplicates(inplace=True)\n",
        "transactions = data[0].str.split(',')\n",
        "te = TransactionEncoder()\n",
        "te_ary = te.fit(transactions).transform(transactions)\n",
        "df = pd.DataFrame(te_ary, columns=te.columns_)\n"
      ],
      "metadata": {
        "colab": {
          "base_uri": "https://localhost:8080/"
        },
        "id": "nLEYQyqjut3T",
        "outputId": "14589ce7-855a-4b67-a8f9-e263d2f48f83"
      },
      "execution_count": 3,
      "outputs": [
        {
          "output_type": "stream",
          "name": "stderr",
          "text": [
            "/usr/local/lib/python3.10/dist-packages/ipykernel/ipkernel.py:283: DeprecationWarning: `should_run_async` will not call `transform_cell` automatically in the future. Please pass the result to `transformed_cell` argument and any exception that happen during thetransform in `preprocessing_exc_tuple` in IPython 7.17 and above.\n",
            "  and should_run_async(code)\n"
          ]
        }
      ]
    },
    {
      "cell_type": "code",
      "source": [
        "frequent_itemsets = apriori(df, min_support=0.05, use_colnames=True)\n",
        "rules = association_rules(frequent_itemsets, metric=\"lift\", min_threshold=1, num_itemsets=10)\n",
        "print(rules)"
      ],
      "metadata": {
        "colab": {
          "base_uri": "https://localhost:8080/"
        },
        "collapsed": true,
        "id": "47zXmTJ7vHlx",
        "outputId": "5bbdcce3-4443-4ad9-97df-361d43d7ae79"
      },
      "execution_count": 10,
      "outputs": [
        {
          "output_type": "stream",
          "name": "stdout",
          "text": [
            "            antecedents          consequents  antecedent support  \\\n",
            "0           (chocolate)      (mineral water)            0.205178   \n",
            "1       (mineral water)          (chocolate)            0.299845   \n",
            "2           (chocolate)          (spaghetti)            0.205178   \n",
            "3           (spaghetti)          (chocolate)            0.229521   \n",
            "4       (mineral water)               (eggs)            0.299845   \n",
            "5                (eggs)      (mineral water)            0.208076   \n",
            "6           (spaghetti)               (eggs)            0.229521   \n",
            "7                (eggs)          (spaghetti)            0.208076   \n",
            "8       (mineral water)  (frozen vegetables)            0.299845   \n",
            "9   (frozen vegetables)      (mineral water)            0.129830   \n",
            "10      (mineral water)        (ground beef)            0.299845   \n",
            "11        (ground beef)      (mineral water)            0.135819   \n",
            "12          (spaghetti)        (ground beef)            0.229521   \n",
            "13        (ground beef)          (spaghetti)            0.135819   \n",
            "14      (mineral water)               (milk)            0.299845   \n",
            "15               (milk)      (mineral water)            0.170015   \n",
            "16          (spaghetti)               (milk)            0.229521   \n",
            "17               (milk)          (spaghetti)            0.170015   \n",
            "18      (mineral water)          (spaghetti)            0.299845   \n",
            "19          (spaghetti)      (mineral water)            0.229521   \n",
            "\n",
            "    consequent support   support  confidence      lift  representativity  \\\n",
            "0             0.299845  0.073223    0.356874  1.190193               1.0   \n",
            "1             0.205178  0.073223    0.244201  1.190193               1.0   \n",
            "2             0.229521  0.055835    0.272128  1.185635               1.0   \n",
            "3             0.205178  0.055835    0.243266  1.185635               1.0   \n",
            "4             0.208076  0.070131    0.233892  1.124070               1.0   \n",
            "5             0.299845  0.070131    0.337047  1.124070               1.0   \n",
            "6             0.208076  0.051391    0.223906  1.076078               1.0   \n",
            "7             0.229521  0.051391    0.246982  1.076078               1.0   \n",
            "8             0.129830  0.050425    0.168170  1.295310               1.0   \n",
            "9             0.299845  0.050425    0.388393  1.295310               1.0   \n",
            "10            0.135819  0.058733    0.195876  1.442184               1.0   \n",
            "11            0.299845  0.058733    0.432432  1.442184               1.0   \n",
            "12            0.135819  0.055835    0.243266  1.791102               1.0   \n",
            "13            0.229521  0.055835    0.411095  1.791102               1.0   \n",
            "14            0.170015  0.067813    0.226160  1.330231               1.0   \n",
            "15            0.299845  0.067813    0.398864  1.330231               1.0   \n",
            "16            0.170015  0.050039    0.218013  1.282316               1.0   \n",
            "17            0.229521  0.050039    0.294318  1.282316               1.0   \n",
            "18            0.229521  0.085008    0.283505  1.235204               1.0   \n",
            "19            0.299845  0.085008    0.370370  1.235204               1.0   \n",
            "\n",
            "    leverage  conviction  zhangs_metric   jaccard  certainty  kulczynski  \n",
            "0   0.011701    1.088674       0.201051  0.169575   0.081451    0.300537  \n",
            "1   0.011701    1.051632       0.228235  0.169575   0.049097    0.300537  \n",
            "2   0.008742    1.058537       0.196988  0.147374   0.055300    0.257697  \n",
            "3   0.008742    1.050332       0.203212  0.147374   0.047920    0.257697  \n",
            "4   0.007741    1.033698       0.157645  0.160194   0.032599    0.285470  \n",
            "5   0.007741    1.056115       0.139377  0.160194   0.053134    0.285470  \n",
            "6   0.003633    1.020397       0.091760  0.133067   0.019989    0.235444  \n",
            "7   0.003633    1.023189       0.089275  0.133067   0.022663    0.235444  \n",
            "8   0.011496    1.046091       0.325620  0.132960   0.044060    0.278281  \n",
            "9   0.011496    1.144778       0.262000  0.132960   0.126468    0.278281  \n",
            "10  0.018008    1.074686       0.437914  0.155818   0.069496    0.314154  \n",
            "11  0.018008    1.233606       0.354795  0.155818   0.189368    0.314154  \n",
            "12  0.024661    1.141988       0.573260  0.180400   0.124334    0.327181  \n",
            "13  0.024661    1.308326       0.511102  0.180400   0.235664    0.327181  \n",
            "14  0.016835    1.072553       0.354566  0.168669   0.067645    0.312512  \n",
            "15  0.016835    1.164718       0.299103  0.168669   0.141423    0.312512  \n",
            "16  0.011017    1.061380       0.285745  0.143173   0.057830    0.256166  \n",
            "17  0.011017    1.091822       0.265259  0.143173   0.084100    0.256166  \n",
            "18  0.016187    1.075345       0.271965  0.191304   0.070066    0.326938  \n",
            "19  0.016187    1.112010       0.247141  0.191304   0.100728    0.326938  \n"
          ]
        },
        {
          "output_type": "stream",
          "name": "stderr",
          "text": [
            "/usr/local/lib/python3.10/dist-packages/ipykernel/ipkernel.py:283: DeprecationWarning: `should_run_async` will not call `transform_cell` automatically in the future. Please pass the result to `transformed_cell` argument and any exception that happen during thetransform in `preprocessing_exc_tuple` in IPython 7.17 and above.\n",
            "  and should_run_async(code)\n"
          ]
        }
      ]
    },
    {
      "cell_type": "code",
      "source": [
        "high_confidence_rules = rules[(rules['confidence'] >= 0.6) & (rules['lift'] > 1)]\n",
        "print(high_confidence_rules[['antecedents', 'consequents', 'support', 'confidence', 'lift']])\n"
      ],
      "metadata": {
        "colab": {
          "base_uri": "https://localhost:8080/"
        },
        "id": "BEJTCERNvxc0",
        "outputId": "c1d7966b-05ed-4819-cfd2-28dac4db64e8"
      },
      "execution_count": 11,
      "outputs": [
        {
          "output_type": "stream",
          "name": "stdout",
          "text": [
            "Empty DataFrame\n",
            "Columns: [antecedents, consequents, support, confidence, lift]\n",
            "Index: []\n"
          ]
        },
        {
          "output_type": "stream",
          "name": "stderr",
          "text": [
            "/usr/local/lib/python3.10/dist-packages/ipykernel/ipkernel.py:283: DeprecationWarning: `should_run_async` will not call `transform_cell` automatically in the future. Please pass the result to `transformed_cell` argument and any exception that happen during thetransform in `preprocessing_exc_tuple` in IPython 7.17 and above.\n",
            "  and should_run_async(code)\n"
          ]
        }
      ]
    }
  ]
}