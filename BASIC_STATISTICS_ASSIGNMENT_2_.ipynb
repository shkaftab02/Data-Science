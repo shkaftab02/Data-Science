{
  "nbformat": 4,
  "nbformat_minor": 0,
  "metadata": {
    "colab": {
      "provenance": []
    },
    "kernelspec": {
      "name": "python3",
      "display_name": "Python 3"
    },
    "language_info": {
      "name": "python"
    }
  },
  "cells": [
    {
      "cell_type": "markdown",
      "source": [
        "# ***Estimation And Confidence Intervals***\n",
        "\n",
        "\n"
      ],
      "metadata": {
        "id": "5E1WYhW71xGU"
      }
    },
    {
      "cell_type": "markdown",
      "source": [
        "a. Build 99% Confidence Interval Using Sample Standard Deviation"
      ],
      "metadata": {
        "id": "PSU9KVt9161K"
      }
    },
    {
      "cell_type": "code",
      "execution_count": 1,
      "metadata": {
        "colab": {
          "base_uri": "https://localhost:8080/"
        },
        "id": "Jb_5hu2s1vHT",
        "outputId": "e0f6bac2-160b-402c-e88a-9d34042dc834"
      },
      "outputs": [
        {
          "output_type": "stream",
          "name": "stdout",
          "text": [
            "99% Confidence Interval using sample standard deviation: (1.090, 1.387)\n"
          ]
        }
      ],
      "source": [
        "import numpy as np\n",
        "import scipy.stats as stats\n",
        "\n",
        "data = [1.13, 1.55, 1.43, 0.92, 1.25, 1.36, 1.32, 0.85, 1.07, 1.48, 1.20, 1.33, 1.18, 1.22, 1.29]\n",
        "n = len(data)\n",
        "mean = np.mean(data)\n",
        "sample_std = np.std(data, ddof=1)\n",
        "alpha = 0.01\n",
        "t_critical = stats.t.ppf(1 - alpha / 2, df=n-1)\n",
        "margin_of_error = t_critical * (sample_std / np.sqrt(n))\n",
        "ci_lower = mean - margin_of_error\n",
        "ci_upper = mean + margin_of_error\n",
        "\n",
        "print(f\"99% Confidence Interval using sample standard deviation: ({ci_lower:.3f}, {ci_upper:.3f})\")\n"
      ]
    },
    {
      "cell_type": "code",
      "source": [],
      "metadata": {
        "id": "Rvq8Z4Ku3oy7"
      },
      "execution_count": null,
      "outputs": []
    },
    {
      "cell_type": "markdown",
      "source": [
        "b. Build 99% Confidence Interval Using Known Population Standard Deviation"
      ],
      "metadata": {
        "id": "iiwFxPP22Mjh"
      }
    },
    {
      "cell_type": "code",
      "source": [
        "\n",
        "population_std = 0.2\n",
        "z_critical = stats.norm.ppf(1 - alpha / 2)\n",
        "margin_of_error_population = z_critical * (population_std / np.sqrt(n))\n",
        "ci_lower_population = mean - margin_of_error_population\n",
        "ci_upper_population = mean + margin_of_error_population\n",
        "\n",
        "print(f\"99% Confidence Interval using known population standard deviation: ({ci_lower_population:.3f}, {ci_upper_population:.3f})\")\n"
      ],
      "metadata": {
        "colab": {
          "base_uri": "https://localhost:8080/"
        },
        "id": "F3_Fmw882Hg2",
        "outputId": "6a9b5de3-085a-4c92-edb3-c439c59aa9b8"
      },
      "execution_count": 2,
      "outputs": [
        {
          "output_type": "stream",
          "name": "stdout",
          "text": [
            "99% Confidence Interval using known population standard deviation: (1.106, 1.372)\n"
          ]
        }
      ]
    }
  ]
}