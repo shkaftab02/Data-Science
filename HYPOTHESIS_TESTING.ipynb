{
  "nbformat": 4,
  "nbformat_minor": 0,
  "metadata": {
    "colab": {
      "provenance": []
    },
    "kernelspec": {
      "name": "python3",
      "display_name": "Python 3"
    },
    "language_info": {
      "name": "python"
    }
  },
  "cells": [
    {
      "cell_type": "code",
      "execution_count": 1,
      "metadata": {
        "colab": {
          "base_uri": "https://localhost:8080/"
        },
        "id": "X0gSCpKBZJYO",
        "outputId": "fd55ffab-9270-4d1b-9821-655b889f1609"
      },
      "outputs": [
        {
          "output_type": "stream",
          "name": "stdout",
          "text": [
            "Hypothesis Testing Results\n",
            "---------------------------\n",
            "Sample Mean: 3050\n",
            "Theoretical Mean: 4000\n",
            "Standard Deviation: 125\n",
            "Sample Size: 25\n",
            "Standard Error: 25.00\n",
            "Test Statistic (t): -38.00\n",
            "Critical Value (Z): 1.64\n",
            "Decision: Fail to reject H0\n",
            "Conclusion: There is insufficient evidence to support the restaurant owners' claim.\n"
          ]
        }
      ],
      "source": [
        "\n",
        "import math\n",
        "from scipy.stats import norm\n",
        "\n",
        "# 1. State the Hypotheses:\n",
        "# Null Hypothesis (H0): The weekly operating cost follows the theoretical model (mean = $1,000 + $5X).\n",
        "# Alternative Hypothesis (H1): The weekly operating cost is higher than the theoretical model.\n",
        "\n",
        "# 2. Calculate the Test Statistic:\n",
        "\n",
        "sample_mean = 3050  # Rs. 3,050\n",
        "theoretical_cost_mean = 1000 + 5 * 600  # W = $1,000 + $5X\n",
        "std_deviation = 5 * 25  # Standard deviation for the weekly cost\n",
        "sample_size = 25\n",
        "\n",
        "standard_error = std_deviation / math.sqrt(sample_size)\n",
        "test_statistic = (sample_mean - theoretical_cost_mean) / standard_error\n",
        "\n",
        "# 3. Determine the Critical Value:\n",
        "alpha = 0.05\n",
        "critical_value = norm.ppf(1 - alpha)  # Z-critical value for one-tailed test\n",
        "\n",
        "# 4. Make a Decision:\n",
        "decision = \"Reject H0\" if test_statistic > critical_value else \"Fail to reject H0\"\n",
        "\n",
        "# 5. Conclusion:\n",
        "conclusion = (\n",
        "    \"There is strong evidence to support the restaurant owners' claim that the weekly operating costs are higher \"\n",
        "    \"than the theoretical model suggests.\"\n",
        "    if decision == \"Reject H0\"\n",
        "    else \"There is insufficient evidence to support the restaurant owners' claim.\"\n",
        ")\n",
        "\n",
        "# Print results\n",
        "print(\"Hypothesis Testing Results\")\n",
        "print(\"---------------------------\")\n",
        "print(f\"Sample Mean: {sample_mean}\")\n",
        "print(f\"Theoretical Mean: {theoretical_cost_mean}\")\n",
        "print(f\"Standard Deviation: {std_deviation}\")\n",
        "print(f\"Sample Size: {sample_size}\")\n",
        "print(f\"Standard Error: {standard_error:.2f}\")\n",
        "print(f\"Test Statistic (t): {test_statistic:.2f}\")\n",
        "print(f\"Critical Value (Z): {critical_value:.2f}\")\n",
        "print(f\"Decision: {decision}\")\n",
        "print(f\"Conclusion: {conclusion}\")\n"
      ]
    }
  ]
}