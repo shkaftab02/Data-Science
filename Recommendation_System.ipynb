{
  "nbformat": 4,
  "nbformat_minor": 0,
  "metadata": {
    "colab": {
      "provenance": []
    },
    "kernelspec": {
      "name": "python3",
      "display_name": "Python 3"
    },
    "language_info": {
      "name": "python"
    }
  },
  "cells": [
    {
      "cell_type": "code",
      "source": [
        "import pandas as pd\n",
        "import numpy as np\n",
        "from sklearn.preprocessing import MinMaxScaler\n",
        "from sklearn.metrics.pairwise import cosine_similarity\n",
        "\n",
        "df = pd.read_csv('/content/anime.csv')\n",
        "\n",
        "print(\"Columns in the dataset:\", df.columns)\n",
        "\n",
        "if 'genres' in df.columns:\n",
        "    df['genres'] = df['genres'].fillna('Unknown')\n",
        "else:\n",
        "\n",
        "    print(\"The column 'genres' does not exist. Please check the column name and update it accordingly.\")\n",
        "    print(\"Available columns:\", df.columns)\n",
        "    if 'genre' in df.columns:\n",
        "        df['genre'] = df['genre'].fillna('Unknown')\n",
        "        df['genres'] = df['genre']\n",
        "    else:\n",
        "        raise KeyError(\"No column found for 'genres' or 'genre'. Please verify the dataset.\")\n",
        "\n",
        "df['rating'] = pd.to_numeric(df['rating'], errors='coerce')\n",
        "df['rating'] = df['rating'].fillna(df['rating'].mean())\n",
        "\n",
        "\n",
        "df['episodes'] = pd.to_numeric(df['episodes'], errors='coerce')\n",
        "df['episodes'] = df['episodes'].fillna(0)\n",
        "\n",
        "scaler = MinMaxScaler()\n",
        "df[['rating', 'episodes']] = scaler.fit_transform(df[['rating', 'episodes']])\n",
        "\n",
        "df_genres = df['genres'].str.get_dummies(sep=',')\n",
        "df = pd.concat([df, df_genres], axis=1)\n",
        "anime_features = df[['rating', 'episodes'] + list(df_genres.columns)]\n",
        "\n",
        "similarity_matrix = cosine_similarity(anime_features)\n",
        "\n",
        "def recommend_anime(target_index, similarity_matrix, top_n=5):\n",
        "    \"\"\"\n",
        "    Recommend similar anime based on cosine similarity scores.\n",
        "    :param target_index: Index of the target anime\n",
        "    :param similarity_matrix: Precomputed cosine similarity matrix\n",
        "    :param top_n: Number of similar anime to recommend\n",
        "    :return: DataFrame of recommended anime\n",
        "    \"\"\"\n",
        "    similar_indices = similarity_matrix[target_index].argsort()[-top_n-1:-1][::-1]\n",
        "    similar_anime = df.iloc[similar_indices]\n",
        "    return similar_anime[['name', 'rating', 'episodes', 'genres']]\n",
        "\n",
        "target_index = 0\n",
        "recommended_anime = recommend_anime(target_index, similarity_matrix, top_n=5)\n",
        "print(\"\\nRecommended Anime for\", df.iloc[target_index]['name'])\n",
        "print(recommended_anime)"
      ],
      "metadata": {
        "colab": {
          "base_uri": "https://localhost:8080/"
        },
        "collapsed": true,
        "id": "vLZCnf_aSCG-",
        "outputId": "8c86a012-a372-4e1d-ad51-3ffc8d4a61d0"
      },
      "execution_count": 19,
      "outputs": [
        {
          "output_type": "stream",
          "name": "stderr",
          "text": [
            "/usr/local/lib/python3.10/dist-packages/ipykernel/ipkernel.py:283: DeprecationWarning: `should_run_async` will not call `transform_cell` automatically in the future. Please pass the result to `transformed_cell` argument and any exception that happen during thetransform in `preprocessing_exc_tuple` in IPython 7.17 and above.\n",
            "  and should_run_async(code)\n"
          ]
        },
        {
          "output_type": "stream",
          "name": "stdout",
          "text": [
            "Columns in the dataset: Index(['anime_id', 'name', 'genre', 'type', 'episodes', 'rating', 'members'], dtype='object')\n",
            "The column 'genres' does not exist. Please check the column name and update it accordingly.\n",
            "Available columns: Index(['anime_id', 'name', 'genre', 'type', 'episodes', 'rating', 'members'], dtype='object')\n",
            "\n",
            "Recommended Anime for Kimi no Na wa.\n",
            "                                                   name    rating  episodes  \\\n",
            "5805                        Wind: A Breath of Heart OVA  0.561825  0.001650   \n",
            "6394                       Wind: A Breath of Heart (TV)  0.536615  0.007151   \n",
            "208                       Kokoro ga Sakebitagatterunda.  0.798319  0.000550   \n",
            "504   Clannad: After Story - Mou Hitotsu no Sekai, K...  0.762305  0.000550   \n",
            "1201                     Angel Beats!: Another Epilogue  0.715486  0.000550   \n",
            "\n",
            "                                    genres  \n",
            "5805  Drama, Romance, School, Supernatural  \n",
            "6394  Drama, Romance, School, Supernatural  \n",
            "208                 Drama, Romance, School  \n",
            "504                 Drama, Romance, School  \n",
            "1201           Drama, School, Supernatural  \n"
          ]
        }
      ]
    }
  ]
}